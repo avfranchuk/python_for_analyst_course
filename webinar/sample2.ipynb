{
 "cells": [
  {
   "cell_type": "code",
   "execution_count": 1,
   "metadata": {},
   "outputs": [],
   "source": [
    "from apiclient.discovery import build\n",
    "from oauth2client.service_account import ServiceAccountCredentials\n",
    "import pandas as pd\n",
    "import matplotlib.pyplot as plt\n",
    "%matplotlib inline\n",
    "\n",
    "#module\n",
    "import analytics_helper.main_module as anal"
   ]
  },
  {
   "cell_type": "markdown",
   "metadata": {},
   "source": [
    "## Изначально как библиотека выглядит у гугла и данные"
   ]
  },
  {
   "cell_type": "code",
   "execution_count": null,
   "metadata": {},
   "outputs": [],
   "source": [
    "credentials = ServiceAccountCredentials.from_json_keyfile_name(anal.KEY_FILE_LOCATION, anal.SCOPES)\n",
    "analytics = build('analyticsreporting', 'v4', credentials=credentials)"
   ]
  },
  {
   "cell_type": "code",
   "execution_count": 3,
   "metadata": {},
   "outputs": [
    {
     "data": {
      "text/plain": [
       "googleapiclient.discovery.Resource"
      ]
     },
     "execution_count": 3,
     "metadata": {},
     "output_type": "execute_result"
    }
   ],
   "source": [
    "type(analytics)"
   ]
  },
  {
   "cell_type": "code",
   "execution_count": 4,
   "metadata": {},
   "outputs": [],
   "source": [
    "reports = analytics.reports().batchGet(\n",
    "      body={\n",
    "        'reportRequests': [\n",
    "        {\n",
    "          'viewId': '{0}'.format(anal.VIEW_ID),\n",
    "          'dateRanges': [{'startDate': '7daysAgo', 'endDate': 'yesterday'}],\n",
    "          'metrics': [{'expression': 'ga:sessions'}],\n",
    "          'dimensions': [{'name': 'ga:country'}]\n",
    "        }]\n",
    "      }\n",
    "  ).execute()"
   ]
  },
  {
   "cell_type": "code",
   "execution_count": 5,
   "metadata": {},
   "outputs": [
    {
     "data": {
      "text/plain": [
       "dict_keys(['columnHeader', 'data'])"
      ]
     },
     "execution_count": 5,
     "metadata": {},
     "output_type": "execute_result"
    }
   ],
   "source": [
    "report = reports['reports'][0]\n",
    "report.keys()"
   ]
  },
  {
   "cell_type": "code",
   "execution_count": 6,
   "metadata": {},
   "outputs": [
    {
     "data": {
      "text/plain": [
       "{'dimensions': ['ga:country'],\n",
       " 'metricHeader': {'metricHeaderEntries': [{'name': 'ga:sessions',\n",
       "    'type': 'INTEGER'}]}}"
      ]
     },
     "execution_count": 6,
     "metadata": {},
     "output_type": "execute_result"
    }
   ],
   "source": [
    "report['columnHeader']"
   ]
  },
  {
   "cell_type": "code",
   "execution_count": 9,
   "metadata": {},
   "outputs": [
    {
     "data": {
      "text/plain": [
       "{'rows': [{'dimensions': ['(not set)'], 'metrics': [{'values': ['1']}]},\n",
       "  {'dimensions': ['Afghanistan'], 'metrics': [{'values': ['1']}]},\n",
       "  {'dimensions': ['Australia'], 'metrics': [{'values': ['5']}]},\n",
       "  {'dimensions': ['Austria'], 'metrics': [{'values': ['1']}]},\n",
       "  {'dimensions': ['Belarus'], 'metrics': [{'values': ['43']}]},\n",
       "  {'dimensions': ['Belgium'], 'metrics': [{'values': ['1']}]},\n",
       "  {'dimensions': ['Brazil'], 'metrics': [{'values': ['3']}]},\n",
       "  {'dimensions': ['Bulgaria'], 'metrics': [{'values': ['1']}]},\n",
       "  {'dimensions': ['Canada'], 'metrics': [{'values': ['6']}]},\n",
       "  {'dimensions': ['Croatia'], 'metrics': [{'values': ['1']}]},\n",
       "  {'dimensions': ['Cyprus'], 'metrics': [{'values': ['11']}]},\n",
       "  {'dimensions': ['Czechia'], 'metrics': [{'values': ['2']}]},\n",
       "  {'dimensions': ['Estonia'], 'metrics': [{'values': ['1']}]},\n",
       "  {'dimensions': ['Finland'], 'metrics': [{'values': ['1']}]},\n",
       "  {'dimensions': ['France'], 'metrics': [{'values': ['12']}]},\n",
       "  {'dimensions': ['Germany'], 'metrics': [{'values': ['14']}]},\n",
       "  {'dimensions': ['Greece'], 'metrics': [{'values': ['2']}]},\n",
       "  {'dimensions': ['Hungary'], 'metrics': [{'values': ['1']}]},\n",
       "  {'dimensions': ['Iceland'], 'metrics': [{'values': ['1']}]},\n",
       "  {'dimensions': ['India'], 'metrics': [{'values': ['2']}]},\n",
       "  {'dimensions': ['Indonesia'], 'metrics': [{'values': ['1']}]},\n",
       "  {'dimensions': ['Israel'], 'metrics': [{'values': ['1']}]},\n",
       "  {'dimensions': ['Italy'], 'metrics': [{'values': ['2']}]},\n",
       "  {'dimensions': ['Kazakhstan'], 'metrics': [{'values': ['16']}]},\n",
       "  {'dimensions': ['Kyrgyzstan'], 'metrics': [{'values': ['1']}]},\n",
       "  {'dimensions': ['Latvia'], 'metrics': [{'values': ['5']}]},\n",
       "  {'dimensions': ['Lithuania'], 'metrics': [{'values': ['2']}]},\n",
       "  {'dimensions': ['Moldova'], 'metrics': [{'values': ['3']}]},\n",
       "  {'dimensions': ['Montenegro'], 'metrics': [{'values': ['1']}]},\n",
       "  {'dimensions': ['Netherlands'], 'metrics': [{'values': ['4']}]},\n",
       "  {'dimensions': ['Norway'], 'metrics': [{'values': ['6']}]},\n",
       "  {'dimensions': ['Poland'], 'metrics': [{'values': ['2']}]},\n",
       "  {'dimensions': ['Portugal'], 'metrics': [{'values': ['1']}]},\n",
       "  {'dimensions': ['Romania'], 'metrics': [{'values': ['2']}]},\n",
       "  {'dimensions': ['Russia'], 'metrics': [{'values': ['1725']}]},\n",
       "  {'dimensions': ['Singapore'], 'metrics': [{'values': ['2']}]},\n",
       "  {'dimensions': ['Slovakia'], 'metrics': [{'values': ['1']}]},\n",
       "  {'dimensions': ['Slovenia'], 'metrics': [{'values': ['8']}]},\n",
       "  {'dimensions': ['Spain'], 'metrics': [{'values': ['6']}]},\n",
       "  {'dimensions': ['Sri Lanka'], 'metrics': [{'values': ['1']}]},\n",
       "  {'dimensions': ['Sweden'], 'metrics': [{'values': ['4']}]},\n",
       "  {'dimensions': ['Switzerland'], 'metrics': [{'values': ['2']}]},\n",
       "  {'dimensions': ['Thailand'], 'metrics': [{'values': ['1']}]},\n",
       "  {'dimensions': ['Turkey'], 'metrics': [{'values': ['2']}]},\n",
       "  {'dimensions': ['Turkmenistan'], 'metrics': [{'values': ['1']}]},\n",
       "  {'dimensions': ['Ukraine'], 'metrics': [{'values': ['131']}]},\n",
       "  {'dimensions': ['United Arab Emirates'], 'metrics': [{'values': ['1']}]},\n",
       "  {'dimensions': ['United Kingdom'], 'metrics': [{'values': ['5']}]},\n",
       "  {'dimensions': ['United States'], 'metrics': [{'values': ['45']}]}],\n",
       " 'totals': [{'values': ['2092']}],\n",
       " 'rowCount': 49,\n",
       " 'minimums': [{'values': ['1']}],\n",
       " 'maximums': [{'values': ['1725']}]}"
      ]
     },
     "execution_count": 9,
     "metadata": {},
     "output_type": "execute_result"
    }
   ],
   "source": [
    "report['data']"
   ]
  },
  {
   "cell_type": "markdown",
   "metadata": {},
   "source": [
    "## Что можно сделать для удобства"
   ]
  },
  {
   "cell_type": "code",
   "execution_count": 10,
   "metadata": {},
   "outputs": [
    {
     "data": {
      "text/html": [
       "<div>\n",
       "<style scoped>\n",
       "    .dataframe tbody tr th:only-of-type {\n",
       "        vertical-align: middle;\n",
       "    }\n",
       "\n",
       "    .dataframe tbody tr th {\n",
       "        vertical-align: top;\n",
       "    }\n",
       "\n",
       "    .dataframe thead th {\n",
       "        text-align: right;\n",
       "    }\n",
       "</style>\n",
       "<table border=\"1\" class=\"dataframe\">\n",
       "  <thead>\n",
       "    <tr style=\"text-align: right;\">\n",
       "      <th></th>\n",
       "      <th>ga:country</th>\n",
       "      <th>ga:sessions</th>\n",
       "    </tr>\n",
       "  </thead>\n",
       "  <tbody>\n",
       "    <tr>\n",
       "      <th>0</th>\n",
       "      <td>(not set)</td>\n",
       "      <td>1</td>\n",
       "    </tr>\n",
       "    <tr>\n",
       "      <th>1</th>\n",
       "      <td>Afghanistan</td>\n",
       "      <td>1</td>\n",
       "    </tr>\n",
       "    <tr>\n",
       "      <th>2</th>\n",
       "      <td>Australia</td>\n",
       "      <td>5</td>\n",
       "    </tr>\n",
       "    <tr>\n",
       "      <th>3</th>\n",
       "      <td>Austria</td>\n",
       "      <td>1</td>\n",
       "    </tr>\n",
       "    <tr>\n",
       "      <th>4</th>\n",
       "      <td>Belarus</td>\n",
       "      <td>43</td>\n",
       "    </tr>\n",
       "  </tbody>\n",
       "</table>\n",
       "</div>"
      ],
      "text/plain": [
       "    ga:country  ga:sessions\n",
       "0    (not set)            1\n",
       "1  Afghanistan            1\n",
       "2    Australia            5\n",
       "3      Austria            1\n",
       "4      Belarus           43"
      ]
     },
     "execution_count": 10,
     "metadata": {},
     "output_type": "execute_result"
    }
   ],
   "source": [
    "df = anal.report_to_list_dfS(anal.body,anal.VIEW_ID,anal.anal_cred)[0]\n",
    "df['ga:sessions'] = pd.to_numeric(df['ga:sessions'])\n",
    "df.head()"
   ]
  },
  {
   "cell_type": "code",
   "execution_count": 13,
   "metadata": {},
   "outputs": [
    {
     "data": {
      "text/plain": [
       "2092"
      ]
     },
     "execution_count": 13,
     "metadata": {},
     "output_type": "execute_result"
    }
   ],
   "source": [
    "df['ga:sessions'].sum()"
   ]
  },
  {
   "cell_type": "markdown",
   "metadata": {},
   "source": [
    "## Попробуем воспроизвести график из GA"
   ]
  },
  {
   "cell_type": "code",
   "execution_count": 14,
   "metadata": {},
   "outputs": [],
   "source": [
    "anal.body['reportRequests'][0]['dimensions'] = [{'name':'ga:date'}]\n",
    "anal.body['reportRequests'][0]['metrics'] = [{'expression': 'ga:users'}]\n",
    "\n",
    "df = anal.report_to_list_dfS(anal.body,anal.VIEW_ID,anal.anal_cred)[0]\n",
    "df['ga:users'] = pd.to_numeric(df['ga:users'])\n",
    "#df['ga:date'] = pd.to_datetime(df['ga:date'])"
   ]
  },
  {
   "cell_type": "code",
   "execution_count": 15,
   "metadata": {},
   "outputs": [
    {
     "data": {
      "image/png": "[encoded data removed]",
      "text/plain": [
       "<Figure size 432x288 with 1 Axes>"
      ]
     },
     "metadata": {},
     "output_type": "display_data"
    }
   ],
   "source": [
    "df['ga:users'].plot();"
   ]
  },
  {
   "cell_type": "markdown",
   "metadata": {},
   "source": [
    "## Попробуем воспроизвести отчет из GA"
   ]
  },
  {
   "cell_type": "code",
   "execution_count": 16,
   "metadata": {},
   "outputs": [],
   "source": [
    "anal.body['reportRequests'][0]['dimensions'] = [{'name':'ga:date'},{'name':'ga:source'},{'name':'ga:city'}]\n",
    "anal.body['reportRequests'][0]['metrics'] = [{'expression': 'ga:sessions'}]\n",
    "\n",
    "df = anal.report_to_list_dfS(anal.body,anal.VIEW_ID,anal.anal_cred)[0]"
   ]
  },
  {
   "cell_type": "code",
   "execution_count": 17,
   "metadata": {},
   "outputs": [
    {
     "data": {
      "text/html": [
       "<div>\n",
       "<style scoped>\n",
       "    .dataframe tbody tr th:only-of-type {\n",
       "        vertical-align: middle;\n",
       "    }\n",
       "\n",
       "    .dataframe tbody tr th {\n",
       "        vertical-align: top;\n",
       "    }\n",
       "\n",
       "    .dataframe thead th {\n",
       "        text-align: right;\n",
       "    }\n",
       "</style>\n",
       "<table border=\"1\" class=\"dataframe\">\n",
       "  <thead>\n",
       "    <tr style=\"text-align: right;\">\n",
       "      <th></th>\n",
       "      <th>ga:date</th>\n",
       "      <th>ga:source</th>\n",
       "      <th>ga:city</th>\n",
       "      <th>ga:sessions</th>\n",
       "    </tr>\n",
       "  </thead>\n",
       "  <tbody>\n",
       "    <tr>\n",
       "      <th>0</th>\n",
       "      <td>20180910</td>\n",
       "      <td>(direct)</td>\n",
       "      <td>(not set)</td>\n",
       "      <td>11</td>\n",
       "    </tr>\n",
       "    <tr>\n",
       "      <th>1</th>\n",
       "      <td>20180910</td>\n",
       "      <td>(direct)</td>\n",
       "      <td>Ashburn</td>\n",
       "      <td>2</td>\n",
       "    </tr>\n",
       "    <tr>\n",
       "      <th>2</th>\n",
       "      <td>20180910</td>\n",
       "      <td>(direct)</td>\n",
       "      <td>Ashgabat</td>\n",
       "      <td>1</td>\n",
       "    </tr>\n",
       "    <tr>\n",
       "      <th>3</th>\n",
       "      <td>20180910</td>\n",
       "      <td>(direct)</td>\n",
       "      <td>Berlin</td>\n",
       "      <td>5</td>\n",
       "    </tr>\n",
       "    <tr>\n",
       "      <th>4</th>\n",
       "      <td>20180910</td>\n",
       "      <td>(direct)</td>\n",
       "      <td>Bishkek</td>\n",
       "      <td>1</td>\n",
       "    </tr>\n",
       "  </tbody>\n",
       "</table>\n",
       "</div>"
      ],
      "text/plain": [
       "    ga:date ga:source    ga:city ga:sessions\n",
       "0  20180910  (direct)  (not set)          11\n",
       "1  20180910  (direct)    Ashburn           2\n",
       "2  20180910  (direct)   Ashgabat           1\n",
       "3  20180910  (direct)     Berlin           5\n",
       "4  20180910  (direct)    Bishkek           1"
      ]
     },
     "execution_count": 17,
     "metadata": {},
     "output_type": "execute_result"
    }
   ],
   "source": [
    "df.head()"
   ]
  },
  {
   "cell_type": "code",
   "execution_count": 18,
   "metadata": {},
   "outputs": [
    {
     "data": {
      "text/plain": [
       "(574, 4)"
      ]
     },
     "execution_count": 18,
     "metadata": {},
     "output_type": "execute_result"
    }
   ],
   "source": [
    "df.shape"
   ]
  }
 ],
 "metadata": {
  "kernelspec": {
   "display_name": "Python 3",
   "language": "python",
   "name": "python3"
  },
  "language_info": {
   "codemirror_mode": {
    "name": "ipython",
    "version": 3
   },
   "file_extension": ".py",
   "mimetype": "text/x-python",
   "name": "python",
   "nbconvert_exporter": "python",
   "pygments_lexer": "ipython3",
   "version": "3.6.5"
  }
 },
 "nbformat": 4,
 "nbformat_minor": 2
}
